{
 "cells": [
  {
   "cell_type": "code",
   "execution_count": 32,
   "id": "c10700f2",
   "metadata": {},
   "outputs": [],
   "source": [
    "import pandas as pd\n",
    "import numpy as np\n",
    "import seaborn as sns\n",
    "import matplotlib.pyplot as plt"
   ]
  },
  {
   "cell_type": "code",
   "execution_count": 33,
   "id": "d55830e6",
   "metadata": {},
   "outputs": [
    {
     "data": {
      "text/html": [
       "<div>\n",
       "<style scoped>\n",
       "    .dataframe tbody tr th:only-of-type {\n",
       "        vertical-align: middle;\n",
       "    }\n",
       "\n",
       "    .dataframe tbody tr th {\n",
       "        vertical-align: top;\n",
       "    }\n",
       "\n",
       "    .dataframe thead th {\n",
       "        text-align: right;\n",
       "    }\n",
       "</style>\n",
       "<table border=\"1\" class=\"dataframe\">\n",
       "  <thead>\n",
       "    <tr style=\"text-align: right;\">\n",
       "      <th></th>\n",
       "      <th>Sno</th>\n",
       "      <th>AGE</th>\n",
       "      <th>SEX</th>\n",
       "      <th>CASTE_NAME</th>\n",
       "      <th>CATEGORY_CODE</th>\n",
       "      <th>CATEGORY_NAME</th>\n",
       "      <th>SURGERY_CODE</th>\n",
       "      <th>SURGERY</th>\n",
       "      <th>VILLAGE</th>\n",
       "      <th>MANDAL_NAME</th>\n",
       "      <th>...</th>\n",
       "      <th>CLAIM_DATE</th>\n",
       "      <th>CLAIM_AMOUNT</th>\n",
       "      <th>HOSP_NAME</th>\n",
       "      <th>HOSP_TYPE</th>\n",
       "      <th>HOSP_DISTRICT</th>\n",
       "      <th>SURGERY_DATE</th>\n",
       "      <th>DISCHARGE_DATE</th>\n",
       "      <th>Mortality Y / N</th>\n",
       "      <th>MORTALITY_DATE</th>\n",
       "      <th>SRC_REGISTRATION</th>\n",
       "    </tr>\n",
       "  </thead>\n",
       "  <tbody>\n",
       "    <tr>\n",
       "      <th>0</th>\n",
       "      <td>1</td>\n",
       "      <td>56</td>\n",
       "      <td>Female</td>\n",
       "      <td>BC</td>\n",
       "      <td>M6</td>\n",
       "      <td>NEPHROLOGY</td>\n",
       "      <td>M6.5</td>\n",
       "      <td>Maintenance Hemodialysis For Crf</td>\n",
       "      <td>Lolugu</td>\n",
       "      <td>Ponduru</td>\n",
       "      <td>...</td>\n",
       "      <td>22-03-2017 20:25</td>\n",
       "      <td>11000</td>\n",
       "      <td>Rims Govt. General Hospital, Srikakulam</td>\n",
       "      <td>G</td>\n",
       "      <td>Srikakulam</td>\n",
       "      <td>06-08-2013 00:00</td>\n",
       "      <td>07-09-2013 00:00</td>\n",
       "      <td>NO</td>\n",
       "      <td>NaN</td>\n",
       "      <td>D</td>\n",
       "    </tr>\n",
       "    <tr>\n",
       "      <th>1</th>\n",
       "      <td>2</td>\n",
       "      <td>37</td>\n",
       "      <td>Male</td>\n",
       "      <td>BC</td>\n",
       "      <td>M6</td>\n",
       "      <td>NEPHROLOGY</td>\n",
       "      <td>M6.5</td>\n",
       "      <td>Maintenance Hemodialysis For Crf</td>\n",
       "      <td>Borivanka</td>\n",
       "      <td>Kaviti</td>\n",
       "      <td>...</td>\n",
       "      <td>22-03-2017 20:25</td>\n",
       "      <td>11000</td>\n",
       "      <td>Rims Govt. General Hospital, Srikakulam</td>\n",
       "      <td>G</td>\n",
       "      <td>Srikakulam</td>\n",
       "      <td>08-08-2013 00:00</td>\n",
       "      <td>09-09-2013 00:00</td>\n",
       "      <td>NO</td>\n",
       "      <td>NaN</td>\n",
       "      <td>D</td>\n",
       "    </tr>\n",
       "    <tr>\n",
       "      <th>2</th>\n",
       "      <td>3</td>\n",
       "      <td>50</td>\n",
       "      <td>Male</td>\n",
       "      <td>BC</td>\n",
       "      <td>M6</td>\n",
       "      <td>NEPHROLOGY</td>\n",
       "      <td>M6.5</td>\n",
       "      <td>Maintenance Hemodialysis For Crf</td>\n",
       "      <td>Kapasakuddi</td>\n",
       "      <td>Kaviti</td>\n",
       "      <td>...</td>\n",
       "      <td>22-03-2017 20:25</td>\n",
       "      <td>11500</td>\n",
       "      <td>Rims Govt. General Hospital, Srikakulam</td>\n",
       "      <td>G</td>\n",
       "      <td>Srikakulam</td>\n",
       "      <td>15-08-2013 00:00</td>\n",
       "      <td>18-10-2013 00:00</td>\n",
       "      <td>NO</td>\n",
       "      <td>NaN</td>\n",
       "      <td>D</td>\n",
       "    </tr>\n",
       "    <tr>\n",
       "      <th>3</th>\n",
       "      <td>4</td>\n",
       "      <td>45</td>\n",
       "      <td>Male</td>\n",
       "      <td>BC</td>\n",
       "      <td>M6</td>\n",
       "      <td>NEPHROLOGY</td>\n",
       "      <td>M6.5</td>\n",
       "      <td>Maintenance Hemodialysis For Crf</td>\n",
       "      <td>Telikipenta</td>\n",
       "      <td>Sarubujjili</td>\n",
       "      <td>...</td>\n",
       "      <td>22-03-2017 20:25</td>\n",
       "      <td>11000</td>\n",
       "      <td>Rims Govt. General Hospital, Srikakulam</td>\n",
       "      <td>G</td>\n",
       "      <td>Srikakulam</td>\n",
       "      <td>24-08-2013 00:00</td>\n",
       "      <td>27-09-2013 00:00</td>\n",
       "      <td>NO</td>\n",
       "      <td>NaN</td>\n",
       "      <td>D</td>\n",
       "    </tr>\n",
       "    <tr>\n",
       "      <th>4</th>\n",
       "      <td>5</td>\n",
       "      <td>54</td>\n",
       "      <td>Male</td>\n",
       "      <td>BC</td>\n",
       "      <td>M6</td>\n",
       "      <td>NEPHROLOGY</td>\n",
       "      <td>M6.5</td>\n",
       "      <td>Maintenance Hemodialysis For Crf</td>\n",
       "      <td>Thandemvalasa</td>\n",
       "      <td>Srikakulam</td>\n",
       "      <td>...</td>\n",
       "      <td>22-03-2017 20:25</td>\n",
       "      <td>11000</td>\n",
       "      <td>Rims Govt. General Hospital, Srikakulam</td>\n",
       "      <td>G</td>\n",
       "      <td>Srikakulam</td>\n",
       "      <td>31-08-2013 00:00</td>\n",
       "      <td>02-10-2013 00:00</td>\n",
       "      <td>NO</td>\n",
       "      <td>NaN</td>\n",
       "      <td>D</td>\n",
       "    </tr>\n",
       "  </tbody>\n",
       "</table>\n",
       "<p>5 rows × 23 columns</p>\n",
       "</div>"
      ],
      "text/plain": [
       "   Sno  AGE     SEX CASTE_NAME CATEGORY_CODE CATEGORY_NAME SURGERY_CODE  \\\n",
       "0    1   56  Female         BC            M6    NEPHROLOGY         M6.5   \n",
       "1    2   37    Male         BC            M6    NEPHROLOGY         M6.5   \n",
       "2    3   50    Male         BC            M6    NEPHROLOGY         M6.5   \n",
       "3    4   45    Male         BC            M6    NEPHROLOGY         M6.5   \n",
       "4    5   54    Male         BC            M6    NEPHROLOGY         M6.5   \n",
       "\n",
       "                            SURGERY        VILLAGE  MANDAL_NAME  ...  \\\n",
       "0  Maintenance Hemodialysis For Crf         Lolugu      Ponduru  ...   \n",
       "1  Maintenance Hemodialysis For Crf      Borivanka       Kaviti  ...   \n",
       "2  Maintenance Hemodialysis For Crf    Kapasakuddi       Kaviti  ...   \n",
       "3  Maintenance Hemodialysis For Crf    Telikipenta  Sarubujjili  ...   \n",
       "4  Maintenance Hemodialysis For Crf  Thandemvalasa   Srikakulam  ...   \n",
       "\n",
       "         CLAIM_DATE CLAIM_AMOUNT                                HOSP_NAME  \\\n",
       "0  22-03-2017 20:25        11000  Rims Govt. General Hospital, Srikakulam   \n",
       "1  22-03-2017 20:25        11000  Rims Govt. General Hospital, Srikakulam   \n",
       "2  22-03-2017 20:25        11500  Rims Govt. General Hospital, Srikakulam   \n",
       "3  22-03-2017 20:25        11000  Rims Govt. General Hospital, Srikakulam   \n",
       "4  22-03-2017 20:25        11000  Rims Govt. General Hospital, Srikakulam   \n",
       "\n",
       "  HOSP_TYPE  HOSP_DISTRICT      SURGERY_DATE    DISCHARGE_DATE  \\\n",
       "0         G     Srikakulam  06-08-2013 00:00  07-09-2013 00:00   \n",
       "1         G     Srikakulam  08-08-2013 00:00  09-09-2013 00:00   \n",
       "2         G     Srikakulam  15-08-2013 00:00  18-10-2013 00:00   \n",
       "3         G     Srikakulam  24-08-2013 00:00  27-09-2013 00:00   \n",
       "4         G     Srikakulam  31-08-2013 00:00  02-10-2013 00:00   \n",
       "\n",
       "  Mortality Y / N MORTALITY_DATE SRC_REGISTRATION  \n",
       "0              NO            NaN                D  \n",
       "1              NO            NaN                D  \n",
       "2              NO            NaN                D  \n",
       "3              NO            NaN                D  \n",
       "4              NO            NaN                D  \n",
       "\n",
       "[5 rows x 23 columns]"
      ]
     },
     "execution_count": 33,
     "metadata": {},
     "output_type": "execute_result"
    }
   ],
   "source": [
    "df=pd.read_csv('Andhra_Health_Data.csv')\n",
    "df.head()"
   ]
  },
  {
   "cell_type": "code",
   "execution_count": 34,
   "id": "fbadf1b1",
   "metadata": {},
   "outputs": [
    {
     "data": {
      "text/plain": [
       "(479688, 23)"
      ]
     },
     "execution_count": 34,
     "metadata": {},
     "output_type": "execute_result"
    }
   ],
   "source": [
    "df.shape"
   ]
  },
  {
   "cell_type": "code",
   "execution_count": 35,
   "id": "0bb6492b",
   "metadata": {},
   "outputs": [
    {
     "name": "stdout",
     "output_type": "stream",
     "text": [
      "<class 'pandas.core.frame.DataFrame'>\n",
      "RangeIndex: 479688 entries, 0 to 479687\n",
      "Data columns (total 23 columns):\n",
      " #   Column            Non-Null Count   Dtype \n",
      "---  ------            --------------   ----- \n",
      " 0   Sno               479688 non-null  int64 \n",
      " 1   AGE               479688 non-null  int64 \n",
      " 2   SEX               479688 non-null  object\n",
      " 3   CASTE_NAME        479688 non-null  object\n",
      " 4   CATEGORY_CODE     479688 non-null  object\n",
      " 5   CATEGORY_NAME     479688 non-null  object\n",
      " 6   SURGERY_CODE      479688 non-null  object\n",
      " 7   SURGERY           479688 non-null  object\n",
      " 8   VILLAGE           479688 non-null  object\n",
      " 9   MANDAL_NAME       479688 non-null  object\n",
      " 10  DISTRICT_NAME     479688 non-null  object\n",
      " 11  PREAUTH_DATE      479688 non-null  object\n",
      " 12  PREAUTH_AMT       479688 non-null  int64 \n",
      " 13  CLAIM_DATE        479688 non-null  object\n",
      " 14  CLAIM_AMOUNT      479688 non-null  int64 \n",
      " 15  HOSP_NAME         479688 non-null  object\n",
      " 16  HOSP_TYPE         479688 non-null  object\n",
      " 17  HOSP_DISTRICT     479688 non-null  object\n",
      " 18  SURGERY_DATE      479688 non-null  object\n",
      " 19  DISCHARGE_DATE    475128 non-null  object\n",
      " 20  Mortality Y / N   479688 non-null  object\n",
      " 21  MORTALITY_DATE    10122 non-null   object\n",
      " 22  SRC_REGISTRATION  479688 non-null  object\n",
      "dtypes: int64(4), object(19)\n",
      "memory usage: 84.2+ MB\n"
     ]
    }
   ],
   "source": [
    "df.info()"
   ]
  },
  {
   "cell_type": "code",
   "execution_count": 36,
   "id": "14621ad5",
   "metadata": {},
   "outputs": [
    {
     "name": "stdout",
     "output_type": "stream",
     "text": [
      "Sno                      0\n",
      "AGE                      0\n",
      "SEX                      0\n",
      "CASTE_NAME               0\n",
      "CATEGORY_CODE            0\n",
      "CATEGORY_NAME            0\n",
      "SURGERY_CODE             0\n",
      "SURGERY                  0\n",
      "VILLAGE                  0\n",
      "MANDAL_NAME              0\n",
      "DISTRICT_NAME            0\n",
      "PREAUTH_DATE             0\n",
      "PREAUTH_AMT              0\n",
      "CLAIM_DATE               0\n",
      "CLAIM_AMOUNT             0\n",
      "HOSP_NAME                0\n",
      "HOSP_TYPE                0\n",
      "HOSP_DISTRICT            0\n",
      "SURGERY_DATE             0\n",
      "DISCHARGE_DATE        4560\n",
      "Mortality Y / N          0\n",
      "MORTALITY_DATE      469566\n",
      "SRC_REGISTRATION         0\n",
      "dtype: int64\n"
     ]
    }
   ],
   "source": [
    "print(df.isnull().sum())"
   ]
  },
  {
   "cell_type": "code",
   "execution_count": 37,
   "id": "bfa3400f",
   "metadata": {},
   "outputs": [
    {
     "data": {
      "text/plain": [
       "Sno                  0.000000\n",
       "AGE                  0.000000\n",
       "SEX                  0.000000\n",
       "CASTE_NAME           0.000000\n",
       "CATEGORY_CODE        0.000000\n",
       "CATEGORY_NAME        0.000000\n",
       "SURGERY_CODE         0.000000\n",
       "SURGERY              0.000000\n",
       "VILLAGE              0.000000\n",
       "MANDAL_NAME          0.000000\n",
       "DISTRICT_NAME        0.000000\n",
       "PREAUTH_DATE         0.000000\n",
       "PREAUTH_AMT          0.000000\n",
       "CLAIM_DATE           0.000000\n",
       "CLAIM_AMOUNT         0.000000\n",
       "HOSP_NAME            0.000000\n",
       "HOSP_TYPE            0.000000\n",
       "HOSP_DISTRICT        0.000000\n",
       "SURGERY_DATE         0.000000\n",
       "DISCHARGE_DATE       0.950618\n",
       "Mortality Y / N      0.000000\n",
       "MORTALITY_DATE      97.889878\n",
       "SRC_REGISTRATION     0.000000\n",
       "dtype: float64"
      ]
     },
     "execution_count": 37,
     "metadata": {},
     "output_type": "execute_result"
    }
   ],
   "source": [
    "df.isnull().mean()*100"
   ]
  },
  {
   "cell_type": "code",
   "execution_count": 38,
   "id": "b25a1dd0",
   "metadata": {},
   "outputs": [
    {
     "name": "stdout",
     "output_type": "stream",
     "text": [
      "4560\n"
     ]
    }
   ],
   "source": [
    "missing_values_count = df['DISCHARGE_DATE'].isnull().sum()\n",
    "print(missing_values_count)"
   ]
  },
  {
   "cell_type": "code",
   "execution_count": 39,
   "id": "5622c806",
   "metadata": {},
   "outputs": [],
   "source": [
    "# SURGERY_DATE  \n",
    "\n",
    "# df['SURGERY_DATE'] = pd.to_datetime(df['SURGERY_DATE'])\n",
    "\n",
    "# df['SURGERY_DATE'] = df['SURGERY_DATE'].dt.date\n",
    "# Check the result\n",
    "# print(df['SURGERY_DATE'].head())\n",
    "# print(df['SURGERY_DATE'].dtype) "
   ]
  },
  {
   "cell_type": "code",
   "execution_count": 40,
   "id": "c1a41ecb",
   "metadata": {},
   "outputs": [],
   "source": [
    "# print(df['SURGERY_DATE'].dtype) "
   ]
  },
  {
   "cell_type": "code",
   "execution_count": 41,
   "id": "1537d616",
   "metadata": {},
   "outputs": [
    {
     "data": {
      "text/html": [
       "<div>\n",
       "<style scoped>\n",
       "    .dataframe tbody tr th:only-of-type {\n",
       "        vertical-align: middle;\n",
       "    }\n",
       "\n",
       "    .dataframe tbody tr th {\n",
       "        vertical-align: top;\n",
       "    }\n",
       "\n",
       "    .dataframe thead th {\n",
       "        text-align: right;\n",
       "    }\n",
       "</style>\n",
       "<table border=\"1\" class=\"dataframe\">\n",
       "  <thead>\n",
       "    <tr style=\"text-align: right;\">\n",
       "      <th></th>\n",
       "      <th>Sno</th>\n",
       "      <th>AGE</th>\n",
       "      <th>SEX</th>\n",
       "      <th>CASTE_NAME</th>\n",
       "      <th>CATEGORY_CODE</th>\n",
       "      <th>CATEGORY_NAME</th>\n",
       "      <th>SURGERY_CODE</th>\n",
       "      <th>SURGERY</th>\n",
       "      <th>VILLAGE</th>\n",
       "      <th>MANDAL_NAME</th>\n",
       "      <th>...</th>\n",
       "      <th>PREAUTH_AMT</th>\n",
       "      <th>CLAIM_DATE</th>\n",
       "      <th>CLAIM_AMOUNT</th>\n",
       "      <th>HOSP_NAME</th>\n",
       "      <th>HOSP_TYPE</th>\n",
       "      <th>HOSP_DISTRICT</th>\n",
       "      <th>SURGERY_DATE</th>\n",
       "      <th>DISCHARGE_DATE</th>\n",
       "      <th>Mortality Y / N</th>\n",
       "      <th>SRC_REGISTRATION</th>\n",
       "    </tr>\n",
       "  </thead>\n",
       "  <tbody>\n",
       "    <tr>\n",
       "      <th>0</th>\n",
       "      <td>1</td>\n",
       "      <td>56</td>\n",
       "      <td>Female</td>\n",
       "      <td>BC</td>\n",
       "      <td>M6</td>\n",
       "      <td>NEPHROLOGY</td>\n",
       "      <td>M6.5</td>\n",
       "      <td>Maintenance Hemodialysis For Crf</td>\n",
       "      <td>Lolugu</td>\n",
       "      <td>Ponduru</td>\n",
       "      <td>...</td>\n",
       "      <td>12500</td>\n",
       "      <td>22-03-2017 20:25</td>\n",
       "      <td>11000</td>\n",
       "      <td>Rims Govt. General Hospital, Srikakulam</td>\n",
       "      <td>G</td>\n",
       "      <td>Srikakulam</td>\n",
       "      <td>06-08-2013 00:00</td>\n",
       "      <td>07-09-2013 00:00</td>\n",
       "      <td>NO</td>\n",
       "      <td>D</td>\n",
       "    </tr>\n",
       "    <tr>\n",
       "      <th>1</th>\n",
       "      <td>2</td>\n",
       "      <td>37</td>\n",
       "      <td>Male</td>\n",
       "      <td>BC</td>\n",
       "      <td>M6</td>\n",
       "      <td>NEPHROLOGY</td>\n",
       "      <td>M6.5</td>\n",
       "      <td>Maintenance Hemodialysis For Crf</td>\n",
       "      <td>Borivanka</td>\n",
       "      <td>Kaviti</td>\n",
       "      <td>...</td>\n",
       "      <td>12500</td>\n",
       "      <td>22-03-2017 20:25</td>\n",
       "      <td>11000</td>\n",
       "      <td>Rims Govt. General Hospital, Srikakulam</td>\n",
       "      <td>G</td>\n",
       "      <td>Srikakulam</td>\n",
       "      <td>08-08-2013 00:00</td>\n",
       "      <td>09-09-2013 00:00</td>\n",
       "      <td>NO</td>\n",
       "      <td>D</td>\n",
       "    </tr>\n",
       "    <tr>\n",
       "      <th>2</th>\n",
       "      <td>3</td>\n",
       "      <td>50</td>\n",
       "      <td>Male</td>\n",
       "      <td>BC</td>\n",
       "      <td>M6</td>\n",
       "      <td>NEPHROLOGY</td>\n",
       "      <td>M6.5</td>\n",
       "      <td>Maintenance Hemodialysis For Crf</td>\n",
       "      <td>Kapasakuddi</td>\n",
       "      <td>Kaviti</td>\n",
       "      <td>...</td>\n",
       "      <td>12500</td>\n",
       "      <td>22-03-2017 20:25</td>\n",
       "      <td>11500</td>\n",
       "      <td>Rims Govt. General Hospital, Srikakulam</td>\n",
       "      <td>G</td>\n",
       "      <td>Srikakulam</td>\n",
       "      <td>15-08-2013 00:00</td>\n",
       "      <td>18-10-2013 00:00</td>\n",
       "      <td>NO</td>\n",
       "      <td>D</td>\n",
       "    </tr>\n",
       "    <tr>\n",
       "      <th>3</th>\n",
       "      <td>4</td>\n",
       "      <td>45</td>\n",
       "      <td>Male</td>\n",
       "      <td>BC</td>\n",
       "      <td>M6</td>\n",
       "      <td>NEPHROLOGY</td>\n",
       "      <td>M6.5</td>\n",
       "      <td>Maintenance Hemodialysis For Crf</td>\n",
       "      <td>Telikipenta</td>\n",
       "      <td>Sarubujjili</td>\n",
       "      <td>...</td>\n",
       "      <td>12500</td>\n",
       "      <td>22-03-2017 20:25</td>\n",
       "      <td>11000</td>\n",
       "      <td>Rims Govt. General Hospital, Srikakulam</td>\n",
       "      <td>G</td>\n",
       "      <td>Srikakulam</td>\n",
       "      <td>24-08-2013 00:00</td>\n",
       "      <td>27-09-2013 00:00</td>\n",
       "      <td>NO</td>\n",
       "      <td>D</td>\n",
       "    </tr>\n",
       "    <tr>\n",
       "      <th>4</th>\n",
       "      <td>5</td>\n",
       "      <td>54</td>\n",
       "      <td>Male</td>\n",
       "      <td>BC</td>\n",
       "      <td>M6</td>\n",
       "      <td>NEPHROLOGY</td>\n",
       "      <td>M6.5</td>\n",
       "      <td>Maintenance Hemodialysis For Crf</td>\n",
       "      <td>Thandemvalasa</td>\n",
       "      <td>Srikakulam</td>\n",
       "      <td>...</td>\n",
       "      <td>12500</td>\n",
       "      <td>22-03-2017 20:25</td>\n",
       "      <td>11000</td>\n",
       "      <td>Rims Govt. General Hospital, Srikakulam</td>\n",
       "      <td>G</td>\n",
       "      <td>Srikakulam</td>\n",
       "      <td>31-08-2013 00:00</td>\n",
       "      <td>02-10-2013 00:00</td>\n",
       "      <td>NO</td>\n",
       "      <td>D</td>\n",
       "    </tr>\n",
       "  </tbody>\n",
       "</table>\n",
       "<p>5 rows × 22 columns</p>\n",
       "</div>"
      ],
      "text/plain": [
       "   Sno  AGE     SEX CASTE_NAME CATEGORY_CODE CATEGORY_NAME SURGERY_CODE  \\\n",
       "0    1   56  Female         BC            M6    NEPHROLOGY         M6.5   \n",
       "1    2   37    Male         BC            M6    NEPHROLOGY         M6.5   \n",
       "2    3   50    Male         BC            M6    NEPHROLOGY         M6.5   \n",
       "3    4   45    Male         BC            M6    NEPHROLOGY         M6.5   \n",
       "4    5   54    Male         BC            M6    NEPHROLOGY         M6.5   \n",
       "\n",
       "                            SURGERY        VILLAGE  MANDAL_NAME  ...  \\\n",
       "0  Maintenance Hemodialysis For Crf         Lolugu      Ponduru  ...   \n",
       "1  Maintenance Hemodialysis For Crf      Borivanka       Kaviti  ...   \n",
       "2  Maintenance Hemodialysis For Crf    Kapasakuddi       Kaviti  ...   \n",
       "3  Maintenance Hemodialysis For Crf    Telikipenta  Sarubujjili  ...   \n",
       "4  Maintenance Hemodialysis For Crf  Thandemvalasa   Srikakulam  ...   \n",
       "\n",
       "  PREAUTH_AMT        CLAIM_DATE  CLAIM_AMOUNT  \\\n",
       "0       12500  22-03-2017 20:25         11000   \n",
       "1       12500  22-03-2017 20:25         11000   \n",
       "2       12500  22-03-2017 20:25         11500   \n",
       "3       12500  22-03-2017 20:25         11000   \n",
       "4       12500  22-03-2017 20:25         11000   \n",
       "\n",
       "                                 HOSP_NAME  HOSP_TYPE HOSP_DISTRICT  \\\n",
       "0  Rims Govt. General Hospital, Srikakulam          G    Srikakulam   \n",
       "1  Rims Govt. General Hospital, Srikakulam          G    Srikakulam   \n",
       "2  Rims Govt. General Hospital, Srikakulam          G    Srikakulam   \n",
       "3  Rims Govt. General Hospital, Srikakulam          G    Srikakulam   \n",
       "4  Rims Govt. General Hospital, Srikakulam          G    Srikakulam   \n",
       "\n",
       "       SURGERY_DATE    DISCHARGE_DATE Mortality Y / N SRC_REGISTRATION  \n",
       "0  06-08-2013 00:00  07-09-2013 00:00              NO                D  \n",
       "1  08-08-2013 00:00  09-09-2013 00:00              NO                D  \n",
       "2  15-08-2013 00:00  18-10-2013 00:00              NO                D  \n",
       "3  24-08-2013 00:00  27-09-2013 00:00              NO                D  \n",
       "4  31-08-2013 00:00  02-10-2013 00:00              NO                D  \n",
       "\n",
       "[5 rows x 22 columns]"
      ]
     },
     "execution_count": 41,
     "metadata": {},
     "output_type": "execute_result"
    }
   ],
   "source": [
    "df.drop(['MORTALITY_DATE'], axis=1, inplace=True)\n",
    "df.head()"
   ]
  },
  {
   "cell_type": "code",
   "execution_count": 42,
   "id": "0cb37bd7",
   "metadata": {},
   "outputs": [
    {
     "data": {
      "text/plain": [
       "(479688, 22)"
      ]
     },
     "execution_count": 42,
     "metadata": {},
     "output_type": "execute_result"
    }
   ],
   "source": [
    "df.shape"
   ]
  },
  {
   "cell_type": "code",
   "execution_count": 43,
   "id": "a452769f",
   "metadata": {},
   "outputs": [],
   "source": [
    "# df['SURGERY_DATE'] = pd.to_datetime(df['SURGERY_DATE']).dt.normalize()"
   ]
  },
  {
   "cell_type": "code",
   "execution_count": 44,
   "id": "7c76fb3c",
   "metadata": {},
   "outputs": [],
   "source": [
    "# Check the result\n",
    "# print(df['SURGERY_DATE'].head()) "
   ]
  },
  {
   "cell_type": "code",
   "execution_count": 45,
   "id": "b7dc643b",
   "metadata": {},
   "outputs": [],
   "source": [
    "# print(df['SURGERY_DATE'].dtype) /"
   ]
  },
  {
   "cell_type": "code",
   "execution_count": 46,
   "id": "1695c057",
   "metadata": {},
   "outputs": [
    {
     "name": "stdout",
     "output_type": "stream",
     "text": [
      "<class 'pandas.core.frame.DataFrame'>\n",
      "RangeIndex: 479688 entries, 0 to 479687\n",
      "Data columns (total 22 columns):\n",
      " #   Column            Non-Null Count   Dtype \n",
      "---  ------            --------------   ----- \n",
      " 0   Sno               479688 non-null  int64 \n",
      " 1   AGE               479688 non-null  int64 \n",
      " 2   SEX               479688 non-null  object\n",
      " 3   CASTE_NAME        479688 non-null  object\n",
      " 4   CATEGORY_CODE     479688 non-null  object\n",
      " 5   CATEGORY_NAME     479688 non-null  object\n",
      " 6   SURGERY_CODE      479688 non-null  object\n",
      " 7   SURGERY           479688 non-null  object\n",
      " 8   VILLAGE           479688 non-null  object\n",
      " 9   MANDAL_NAME       479688 non-null  object\n",
      " 10  DISTRICT_NAME     479688 non-null  object\n",
      " 11  PREAUTH_DATE      479688 non-null  object\n",
      " 12  PREAUTH_AMT       479688 non-null  int64 \n",
      " 13  CLAIM_DATE        479688 non-null  object\n",
      " 14  CLAIM_AMOUNT      479688 non-null  int64 \n",
      " 15  HOSP_NAME         479688 non-null  object\n",
      " 16  HOSP_TYPE         479688 non-null  object\n",
      " 17  HOSP_DISTRICT     479688 non-null  object\n",
      " 18  SURGERY_DATE      479688 non-null  object\n",
      " 19  DISCHARGE_DATE    475128 non-null  object\n",
      " 20  Mortality Y / N   479688 non-null  object\n",
      " 21  SRC_REGISTRATION  479688 non-null  object\n",
      "dtypes: int64(4), object(18)\n",
      "memory usage: 80.5+ MB\n"
     ]
    }
   ],
   "source": [
    "df.info()"
   ]
  },
  {
   "cell_type": "code",
   "execution_count": 47,
   "id": "8927c75c",
   "metadata": {},
   "outputs": [],
   "source": [
    "import pandas as pd\n",
    "\n",
    "# Function to clean and standardize a date column\n",
    "def clean_date_column(df, column_name):\n",
    "    # Convert the column to datetime format, allowing multiple date formats\n",
    "    df[column_name] = pd.to_datetime(df[column_name], errors='coerce', dayfirst=True)\n",
    "    # Format the dates to \"DD/MM/YYYY\" and remove the time part\n",
    "    df[column_name] = df[column_name].dt.strftime('%d/%m/%Y')\n",
    "    return df\n"
   ]
  },
  {
   "cell_type": "code",
   "execution_count": 48,
   "id": "c96ae499",
   "metadata": {},
   "outputs": [],
   "source": [
    "column_to_clean = 'CLAIM_DATE'  \n",
    "df = clean_date_column(df, column_to_clean)\n"
   ]
  },
  {
   "cell_type": "code",
   "execution_count": 50,
   "id": "683612a1",
   "metadata": {},
   "outputs": [
    {
     "name": "stdout",
     "output_type": "stream",
     "text": [
      "   Sno  AGE     SEX CASTE_NAME CATEGORY_CODE CATEGORY_NAME SURGERY_CODE  \\\n",
      "0    1   56  Female         BC            M6    NEPHROLOGY         M6.5   \n",
      "1    2   37    Male         BC            M6    NEPHROLOGY         M6.5   \n",
      "2    3   50    Male         BC            M6    NEPHROLOGY         M6.5   \n",
      "3    4   45    Male         BC            M6    NEPHROLOGY         M6.5   \n",
      "4    5   54    Male         BC            M6    NEPHROLOGY         M6.5   \n",
      "\n",
      "                            SURGERY        VILLAGE  MANDAL_NAME  ...  \\\n",
      "0  Maintenance Hemodialysis For Crf         Lolugu      Ponduru  ...   \n",
      "1  Maintenance Hemodialysis For Crf      Borivanka       Kaviti  ...   \n",
      "2  Maintenance Hemodialysis For Crf    Kapasakuddi       Kaviti  ...   \n",
      "3  Maintenance Hemodialysis For Crf    Telikipenta  Sarubujjili  ...   \n",
      "4  Maintenance Hemodialysis For Crf  Thandemvalasa   Srikakulam  ...   \n",
      "\n",
      "  PREAUTH_AMT  CLAIM_DATE  CLAIM_AMOUNT  \\\n",
      "0       12500  22/03/2017         11000   \n",
      "1       12500  22/03/2017         11000   \n",
      "2       12500  22/03/2017         11500   \n",
      "3       12500  22/03/2017         11000   \n",
      "4       12500  22/03/2017         11000   \n",
      "\n",
      "                                 HOSP_NAME  HOSP_TYPE HOSP_DISTRICT  \\\n",
      "0  Rims Govt. General Hospital, Srikakulam          G    Srikakulam   \n",
      "1  Rims Govt. General Hospital, Srikakulam          G    Srikakulam   \n",
      "2  Rims Govt. General Hospital, Srikakulam          G    Srikakulam   \n",
      "3  Rims Govt. General Hospital, Srikakulam          G    Srikakulam   \n",
      "4  Rims Govt. General Hospital, Srikakulam          G    Srikakulam   \n",
      "\n",
      "       SURGERY_DATE    DISCHARGE_DATE Mortality Y / N SRC_REGISTRATION  \n",
      "0  06-08-2013 00:00  07-09-2013 00:00              NO                D  \n",
      "1  08-08-2013 00:00  09-09-2013 00:00              NO                D  \n",
      "2  15-08-2013 00:00  18-10-2013 00:00              NO                D  \n",
      "3  24-08-2013 00:00  27-09-2013 00:00              NO                D  \n",
      "4  31-08-2013 00:00  02-10-2013 00:00              NO                D  \n",
      "\n",
      "[5 rows x 22 columns]\n"
     ]
    }
   ],
   "source": [
    "print(df.head())"
   ]
  },
  {
   "cell_type": "code",
   "execution_count": 52,
   "id": "31b60761",
   "metadata": {},
   "outputs": [
    {
     "data": {
      "text/plain": [
       "0    22/03/2017\n",
       "1    22/03/2017\n",
       "2    22/03/2017\n",
       "3    22/03/2017\n",
       "4    22/03/2017\n",
       "Name: CLAIM_DATE, dtype: object"
      ]
     },
     "execution_count": 52,
     "metadata": {},
     "output_type": "execute_result"
    }
   ],
   "source": [
    "df.CLAIM_DATE.head()"
   ]
  },
  {
   "cell_type": "code",
   "execution_count": 54,
   "id": "78371b0c",
   "metadata": {},
   "outputs": [],
   "source": [
    "column_to_clean = 'PREAUTH_DATE'  \n",
    "df = clean_date_column(df, column_to_clean)\n"
   ]
  },
  {
   "cell_type": "code",
   "execution_count": 55,
   "id": "53b78727",
   "metadata": {},
   "outputs": [
    {
     "data": {
      "text/plain": [
       "0    03/08/2013\n",
       "1    06/08/2013\n",
       "2    09/08/2013\n",
       "3    24/08/2013\n",
       "4    28/08/2013\n",
       "Name: PREAUTH_DATE, dtype: object"
      ]
     },
     "execution_count": 55,
     "metadata": {},
     "output_type": "execute_result"
    }
   ],
   "source": [
    "df.PREAUTH_DATE.head()"
   ]
  },
  {
   "cell_type": "code",
   "execution_count": 56,
   "id": "31e90dbc",
   "metadata": {},
   "outputs": [],
   "source": [
    "column_to_clean = 'SURGERY_DATE'  \n",
    "df = clean_date_column(df, column_to_clean)\n"
   ]
  },
  {
   "cell_type": "code",
   "execution_count": 57,
   "id": "145f55db",
   "metadata": {},
   "outputs": [
    {
     "data": {
      "text/plain": [
       "0    06/08/2013\n",
       "1    08/08/2013\n",
       "2    15/08/2013\n",
       "3    24/08/2013\n",
       "4    31/08/2013\n",
       "Name: SURGERY_DATE, dtype: object"
      ]
     },
     "execution_count": 57,
     "metadata": {},
     "output_type": "execute_result"
    }
   ],
   "source": [
    "df.SURGERY_DATE.head()"
   ]
  },
  {
   "cell_type": "code",
   "execution_count": 58,
   "id": "79802812",
   "metadata": {},
   "outputs": [],
   "source": [
    "column_to_clean = 'DISCHARGE_DATE'  \n",
    "df = clean_date_column(df, column_to_clean)\n"
   ]
  },
  {
   "cell_type": "code",
   "execution_count": 59,
   "id": "e7314a32",
   "metadata": {},
   "outputs": [
    {
     "data": {
      "text/plain": [
       "0    07/09/2013\n",
       "1    09/09/2013\n",
       "2    18/10/2013\n",
       "3    27/09/2013\n",
       "4    02/10/2013\n",
       "Name: DISCHARGE_DATE, dtype: object"
      ]
     },
     "execution_count": 59,
     "metadata": {},
     "output_type": "execute_result"
    }
   ],
   "source": [
    "df.DISCHARGE_DATE.head()"
   ]
  },
  {
   "cell_type": "code",
   "execution_count": 60,
   "id": "1a8cf0b0",
   "metadata": {},
   "outputs": [
    {
     "data": {
      "text/plain": [
       "Sno                 0.000000\n",
       "AGE                 0.000000\n",
       "SEX                 0.000000\n",
       "CASTE_NAME          0.000000\n",
       "CATEGORY_CODE       0.000000\n",
       "CATEGORY_NAME       0.000000\n",
       "SURGERY_CODE        0.000000\n",
       "SURGERY             0.000000\n",
       "VILLAGE             0.000000\n",
       "MANDAL_NAME         0.000000\n",
       "DISTRICT_NAME       0.000000\n",
       "PREAUTH_DATE        0.000000\n",
       "PREAUTH_AMT         0.000000\n",
       "CLAIM_DATE          0.000000\n",
       "CLAIM_AMOUNT        0.000000\n",
       "HOSP_NAME           0.000000\n",
       "HOSP_TYPE           0.000000\n",
       "HOSP_DISTRICT       0.000000\n",
       "SURGERY_DATE        0.000000\n",
       "DISCHARGE_DATE      0.951035\n",
       "Mortality Y / N     0.000000\n",
       "SRC_REGISTRATION    0.000000\n",
       "dtype: float64"
      ]
     },
     "execution_count": 60,
     "metadata": {},
     "output_type": "execute_result"
    }
   ],
   "source": [
    "df.isnull().mean()*100"
   ]
  },
  {
   "cell_type": "code",
   "execution_count": 61,
   "id": "7e5b7bc9",
   "metadata": {},
   "outputs": [],
   "source": [
    "# Replace null or blank values with the mode in the 'currency' column\n",
    "mode_value = df['DISCHARGE_DATE'].mode()[0]  \n",
    "df['DISCHARGE_DATE'] = df['DISCHARGE_DATE'].fillna(mode_value) \n",
    "df['DISCHARGE_DATE'] = df['DISCHARGE_DATE'].replace(r'^\\s*$', mode_value, regex=True)  \n"
   ]
  },
  {
   "cell_type": "code",
   "execution_count": 62,
   "id": "31af9710",
   "metadata": {},
   "outputs": [
    {
     "data": {
      "text/plain": [
       "29/05/2017    6326\n",
       "20/03/2017    1668\n",
       "24/04/2017    1652\n",
       "24/07/2017    1627\n",
       "08/05/2017    1624\n",
       "              ... \n",
       "01/06/2015       1\n",
       "14/07/2015       1\n",
       "27/06/2015       1\n",
       "08/07/2015       1\n",
       "07/09/2013       1\n",
       "Name: DISCHARGE_DATE, Length: 917, dtype: int64"
      ]
     },
     "execution_count": 62,
     "metadata": {},
     "output_type": "execute_result"
    }
   ],
   "source": [
    "df['DISCHARGE_DATE'].value_counts()"
   ]
  },
  {
   "cell_type": "code",
   "execution_count": 63,
   "id": "0f682b33",
   "metadata": {},
   "outputs": [
    {
     "data": {
      "text/plain": [
       "Sno                 0.0\n",
       "AGE                 0.0\n",
       "SEX                 0.0\n",
       "CASTE_NAME          0.0\n",
       "CATEGORY_CODE       0.0\n",
       "CATEGORY_NAME       0.0\n",
       "SURGERY_CODE        0.0\n",
       "SURGERY             0.0\n",
       "VILLAGE             0.0\n",
       "MANDAL_NAME         0.0\n",
       "DISTRICT_NAME       0.0\n",
       "PREAUTH_DATE        0.0\n",
       "PREAUTH_AMT         0.0\n",
       "CLAIM_DATE          0.0\n",
       "CLAIM_AMOUNT        0.0\n",
       "HOSP_NAME           0.0\n",
       "HOSP_TYPE           0.0\n",
       "HOSP_DISTRICT       0.0\n",
       "SURGERY_DATE        0.0\n",
       "DISCHARGE_DATE      0.0\n",
       "Mortality Y / N     0.0\n",
       "SRC_REGISTRATION    0.0\n",
       "dtype: float64"
      ]
     },
     "execution_count": 63,
     "metadata": {},
     "output_type": "execute_result"
    }
   ],
   "source": [
    "df.isnull().mean()*100"
   ]
  },
  {
   "cell_type": "code",
   "execution_count": 64,
   "id": "2ebb1c14",
   "metadata": {},
   "outputs": [],
   "source": [
    "# now saving dataset"
   ]
  },
  {
   "cell_type": "code",
   "execution_count": 65,
   "id": "e580cecb",
   "metadata": {},
   "outputs": [
    {
     "data": {
      "text/html": [
       "<div>\n",
       "<style scoped>\n",
       "    .dataframe tbody tr th:only-of-type {\n",
       "        vertical-align: middle;\n",
       "    }\n",
       "\n",
       "    .dataframe tbody tr th {\n",
       "        vertical-align: top;\n",
       "    }\n",
       "\n",
       "    .dataframe thead th {\n",
       "        text-align: right;\n",
       "    }\n",
       "</style>\n",
       "<table border=\"1\" class=\"dataframe\">\n",
       "  <thead>\n",
       "    <tr style=\"text-align: right;\">\n",
       "      <th></th>\n",
       "      <th>Sno</th>\n",
       "      <th>AGE</th>\n",
       "      <th>SEX</th>\n",
       "      <th>CASTE_NAME</th>\n",
       "      <th>CATEGORY_CODE</th>\n",
       "      <th>CATEGORY_NAME</th>\n",
       "      <th>SURGERY_CODE</th>\n",
       "      <th>SURGERY</th>\n",
       "      <th>VILLAGE</th>\n",
       "      <th>MANDAL_NAME</th>\n",
       "      <th>...</th>\n",
       "      <th>PREAUTH_AMT</th>\n",
       "      <th>CLAIM_DATE</th>\n",
       "      <th>CLAIM_AMOUNT</th>\n",
       "      <th>HOSP_NAME</th>\n",
       "      <th>HOSP_TYPE</th>\n",
       "      <th>HOSP_DISTRICT</th>\n",
       "      <th>SURGERY_DATE</th>\n",
       "      <th>DISCHARGE_DATE</th>\n",
       "      <th>Mortality Y / N</th>\n",
       "      <th>SRC_REGISTRATION</th>\n",
       "    </tr>\n",
       "  </thead>\n",
       "  <tbody>\n",
       "    <tr>\n",
       "      <th>0</th>\n",
       "      <td>1</td>\n",
       "      <td>56</td>\n",
       "      <td>Female</td>\n",
       "      <td>BC</td>\n",
       "      <td>M6</td>\n",
       "      <td>NEPHROLOGY</td>\n",
       "      <td>M6.5</td>\n",
       "      <td>Maintenance Hemodialysis For Crf</td>\n",
       "      <td>Lolugu</td>\n",
       "      <td>Ponduru</td>\n",
       "      <td>...</td>\n",
       "      <td>12500</td>\n",
       "      <td>22/03/2017</td>\n",
       "      <td>11000</td>\n",
       "      <td>Rims Govt. General Hospital, Srikakulam</td>\n",
       "      <td>G</td>\n",
       "      <td>Srikakulam</td>\n",
       "      <td>06/08/2013</td>\n",
       "      <td>07/09/2013</td>\n",
       "      <td>NO</td>\n",
       "      <td>D</td>\n",
       "    </tr>\n",
       "    <tr>\n",
       "      <th>1</th>\n",
       "      <td>2</td>\n",
       "      <td>37</td>\n",
       "      <td>Male</td>\n",
       "      <td>BC</td>\n",
       "      <td>M6</td>\n",
       "      <td>NEPHROLOGY</td>\n",
       "      <td>M6.5</td>\n",
       "      <td>Maintenance Hemodialysis For Crf</td>\n",
       "      <td>Borivanka</td>\n",
       "      <td>Kaviti</td>\n",
       "      <td>...</td>\n",
       "      <td>12500</td>\n",
       "      <td>22/03/2017</td>\n",
       "      <td>11000</td>\n",
       "      <td>Rims Govt. General Hospital, Srikakulam</td>\n",
       "      <td>G</td>\n",
       "      <td>Srikakulam</td>\n",
       "      <td>08/08/2013</td>\n",
       "      <td>09/09/2013</td>\n",
       "      <td>NO</td>\n",
       "      <td>D</td>\n",
       "    </tr>\n",
       "    <tr>\n",
       "      <th>2</th>\n",
       "      <td>3</td>\n",
       "      <td>50</td>\n",
       "      <td>Male</td>\n",
       "      <td>BC</td>\n",
       "      <td>M6</td>\n",
       "      <td>NEPHROLOGY</td>\n",
       "      <td>M6.5</td>\n",
       "      <td>Maintenance Hemodialysis For Crf</td>\n",
       "      <td>Kapasakuddi</td>\n",
       "      <td>Kaviti</td>\n",
       "      <td>...</td>\n",
       "      <td>12500</td>\n",
       "      <td>22/03/2017</td>\n",
       "      <td>11500</td>\n",
       "      <td>Rims Govt. General Hospital, Srikakulam</td>\n",
       "      <td>G</td>\n",
       "      <td>Srikakulam</td>\n",
       "      <td>15/08/2013</td>\n",
       "      <td>18/10/2013</td>\n",
       "      <td>NO</td>\n",
       "      <td>D</td>\n",
       "    </tr>\n",
       "    <tr>\n",
       "      <th>3</th>\n",
       "      <td>4</td>\n",
       "      <td>45</td>\n",
       "      <td>Male</td>\n",
       "      <td>BC</td>\n",
       "      <td>M6</td>\n",
       "      <td>NEPHROLOGY</td>\n",
       "      <td>M6.5</td>\n",
       "      <td>Maintenance Hemodialysis For Crf</td>\n",
       "      <td>Telikipenta</td>\n",
       "      <td>Sarubujjili</td>\n",
       "      <td>...</td>\n",
       "      <td>12500</td>\n",
       "      <td>22/03/2017</td>\n",
       "      <td>11000</td>\n",
       "      <td>Rims Govt. General Hospital, Srikakulam</td>\n",
       "      <td>G</td>\n",
       "      <td>Srikakulam</td>\n",
       "      <td>24/08/2013</td>\n",
       "      <td>27/09/2013</td>\n",
       "      <td>NO</td>\n",
       "      <td>D</td>\n",
       "    </tr>\n",
       "    <tr>\n",
       "      <th>4</th>\n",
       "      <td>5</td>\n",
       "      <td>54</td>\n",
       "      <td>Male</td>\n",
       "      <td>BC</td>\n",
       "      <td>M6</td>\n",
       "      <td>NEPHROLOGY</td>\n",
       "      <td>M6.5</td>\n",
       "      <td>Maintenance Hemodialysis For Crf</td>\n",
       "      <td>Thandemvalasa</td>\n",
       "      <td>Srikakulam</td>\n",
       "      <td>...</td>\n",
       "      <td>12500</td>\n",
       "      <td>22/03/2017</td>\n",
       "      <td>11000</td>\n",
       "      <td>Rims Govt. General Hospital, Srikakulam</td>\n",
       "      <td>G</td>\n",
       "      <td>Srikakulam</td>\n",
       "      <td>31/08/2013</td>\n",
       "      <td>02/10/2013</td>\n",
       "      <td>NO</td>\n",
       "      <td>D</td>\n",
       "    </tr>\n",
       "  </tbody>\n",
       "</table>\n",
       "<p>5 rows × 22 columns</p>\n",
       "</div>"
      ],
      "text/plain": [
       "   Sno  AGE     SEX CASTE_NAME CATEGORY_CODE CATEGORY_NAME SURGERY_CODE  \\\n",
       "0    1   56  Female         BC            M6    NEPHROLOGY         M6.5   \n",
       "1    2   37    Male         BC            M6    NEPHROLOGY         M6.5   \n",
       "2    3   50    Male         BC            M6    NEPHROLOGY         M6.5   \n",
       "3    4   45    Male         BC            M6    NEPHROLOGY         M6.5   \n",
       "4    5   54    Male         BC            M6    NEPHROLOGY         M6.5   \n",
       "\n",
       "                            SURGERY        VILLAGE  MANDAL_NAME  ...  \\\n",
       "0  Maintenance Hemodialysis For Crf         Lolugu      Ponduru  ...   \n",
       "1  Maintenance Hemodialysis For Crf      Borivanka       Kaviti  ...   \n",
       "2  Maintenance Hemodialysis For Crf    Kapasakuddi       Kaviti  ...   \n",
       "3  Maintenance Hemodialysis For Crf    Telikipenta  Sarubujjili  ...   \n",
       "4  Maintenance Hemodialysis For Crf  Thandemvalasa   Srikakulam  ...   \n",
       "\n",
       "  PREAUTH_AMT  CLAIM_DATE  CLAIM_AMOUNT  \\\n",
       "0       12500  22/03/2017         11000   \n",
       "1       12500  22/03/2017         11000   \n",
       "2       12500  22/03/2017         11500   \n",
       "3       12500  22/03/2017         11000   \n",
       "4       12500  22/03/2017         11000   \n",
       "\n",
       "                                 HOSP_NAME  HOSP_TYPE HOSP_DISTRICT  \\\n",
       "0  Rims Govt. General Hospital, Srikakulam          G    Srikakulam   \n",
       "1  Rims Govt. General Hospital, Srikakulam          G    Srikakulam   \n",
       "2  Rims Govt. General Hospital, Srikakulam          G    Srikakulam   \n",
       "3  Rims Govt. General Hospital, Srikakulam          G    Srikakulam   \n",
       "4  Rims Govt. General Hospital, Srikakulam          G    Srikakulam   \n",
       "\n",
       "  SURGERY_DATE DISCHARGE_DATE Mortality Y / N SRC_REGISTRATION  \n",
       "0   06/08/2013     07/09/2013              NO                D  \n",
       "1   08/08/2013     09/09/2013              NO                D  \n",
       "2   15/08/2013     18/10/2013              NO                D  \n",
       "3   24/08/2013     27/09/2013              NO                D  \n",
       "4   31/08/2013     02/10/2013              NO                D  \n",
       "\n",
       "[5 rows x 22 columns]"
      ]
     },
     "execution_count": 65,
     "metadata": {},
     "output_type": "execute_result"
    }
   ],
   "source": [
    "df.head()"
   ]
  },
  {
   "cell_type": "code",
   "execution_count": 66,
   "id": "b5a15fb5",
   "metadata": {},
   "outputs": [
    {
     "name": "stdout",
     "output_type": "stream",
     "text": [
      "<class 'pandas.core.frame.DataFrame'>\n",
      "RangeIndex: 479688 entries, 0 to 479687\n",
      "Data columns (total 22 columns):\n",
      " #   Column            Non-Null Count   Dtype \n",
      "---  ------            --------------   ----- \n",
      " 0   Sno               479688 non-null  int64 \n",
      " 1   AGE               479688 non-null  int64 \n",
      " 2   SEX               479688 non-null  object\n",
      " 3   CASTE_NAME        479688 non-null  object\n",
      " 4   CATEGORY_CODE     479688 non-null  object\n",
      " 5   CATEGORY_NAME     479688 non-null  object\n",
      " 6   SURGERY_CODE      479688 non-null  object\n",
      " 7   SURGERY           479688 non-null  object\n",
      " 8   VILLAGE           479688 non-null  object\n",
      " 9   MANDAL_NAME       479688 non-null  object\n",
      " 10  DISTRICT_NAME     479688 non-null  object\n",
      " 11  PREAUTH_DATE      479688 non-null  object\n",
      " 12  PREAUTH_AMT       479688 non-null  int64 \n",
      " 13  CLAIM_DATE        479688 non-null  object\n",
      " 14  CLAIM_AMOUNT      479688 non-null  int64 \n",
      " 15  HOSP_NAME         479688 non-null  object\n",
      " 16  HOSP_TYPE         479688 non-null  object\n",
      " 17  HOSP_DISTRICT     479688 non-null  object\n",
      " 18  SURGERY_DATE      479688 non-null  object\n",
      " 19  DISCHARGE_DATE    479688 non-null  object\n",
      " 20  Mortality Y / N   479688 non-null  object\n",
      " 21  SRC_REGISTRATION  479688 non-null  object\n",
      "dtypes: int64(4), object(18)\n",
      "memory usage: 80.5+ MB\n"
     ]
    }
   ],
   "source": [
    "df.info()"
   ]
  },
  {
   "cell_type": "code",
   "execution_count": 67,
   "id": "891f0234",
   "metadata": {},
   "outputs": [],
   "source": [
    "df.to_csv('C:/AndhraPradesh/AndhraP_Health_Insurance.csv')"
   ]
  },
  {
   "cell_type": "code",
   "execution_count": null,
   "id": "32a8ff63",
   "metadata": {},
   "outputs": [],
   "source": []
  },
  {
   "cell_type": "code",
   "execution_count": null,
   "id": "f3d8314a",
   "metadata": {},
   "outputs": [],
   "source": []
  },
  {
   "cell_type": "code",
   "execution_count": null,
   "id": "018d69f6",
   "metadata": {},
   "outputs": [],
   "source": []
  }
 ],
 "metadata": {
  "kernelspec": {
   "display_name": "Python 3 (ipykernel)",
   "language": "python",
   "name": "python3"
  },
  "language_info": {
   "codemirror_mode": {
    "name": "ipython",
    "version": 3
   },
   "file_extension": ".py",
   "mimetype": "text/x-python",
   "name": "python",
   "nbconvert_exporter": "python",
   "pygments_lexer": "ipython3",
   "version": "3.10.9"
  }
 },
 "nbformat": 4,
 "nbformat_minor": 5
}
